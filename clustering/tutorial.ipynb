{
 "cells": [
  {
   "cell_type": "markdown",
   "metadata": {},
   "source": [
    "# CLUSTRING Library tutorial\n",
    "\n",
    "This notebook demonstrates how to use my self-made clustering library. We will cover:\n",
    "\n",
    "1. **Working with Data Structures** - Covering the Datastructures of my library that allow clustering to work properly.\n",
    "2. **k-NN Algorithm Implementation** - Training the model and making predictions. Plotting the results with matplotlib\n",
    "3. **K-Mean Algorithm Implementation** - Also training the model, making predictions and plotting the results with matplotlib\n",
    "\n",
    "---"
   ]
  },
  {
   "cell_type": "code",
   "execution_count": 1,
   "metadata": {},
   "outputs": [],
   "source": [
    "# install:\n",
    "\n",
    "from clustering.basic_data_structures.data_points import DataPoints\n",
    "from clustering.basic_data_structures.labeled_data_points import LabeledDataPoints\n",
    "from clustering.method_classes.k_means import KMeans\n",
    "from clustering.method_classes.k_nn import KNN\n",
    "import matplotlib.pyplot as plt"
   ]
  },
  {
   "cell_type": "markdown",
   "metadata": {},
   "source": [
    "# Working with Data Structures\n",
    "\n",
    "The Library containes two Datastructures: `DataPoints` and `LabeledDataPoints`\n",
    "\n",
    "`Data Points` is used to store Data vectors. The data is stored as a list of lists, where:\n",
    "\n",
    "where each list represents a data point (float)\n",
    "\n",
    "data = [p1, p2, p3, ..., pn]\n",
    "\n",
    "where p1 = [x1, x2, x3, ..., xk] and len(p1) = len(p2) = len(p3) = ... = len(pn)\n",
    "\n",
    "You can acess and iterate over the data just like a normal list of lists"
   ]
  },
  {
   "cell_type": "code",
   "execution_count": 2,
   "metadata": {},
   "outputs": [],
   "source": [
    "data_raw = [\n",
    "    [4, 21],\n",
    "    [5, 19],\n",
    "    [4, 17],\n",
    "    [3, 16],\n",
    "    [8, 22],\n",
    "    [10, 24],\n",
    "    [11, 25],\n",
    "    [14, 24],\n",
    "    [10, 21],\n",
    "    [12, 21]\n",
    "]\n",
    "data_points = DataPoints(data_raw)"
   ]
  },
  {
   "cell_type": "markdown",
   "metadata": {},
   "source": [
    "it is also possible to initialize Data Points with a given list of Variables. To do so use `reverse=True`"
   ]
  },
  {
   "cell_type": "code",
   "execution_count": 3,
   "metadata": {},
   "outputs": [],
   "source": [
    "x = [4, 5, 10, 4, 3, 11, 14 , 8, 10, 12]\n",
    "y = [21, 19, 24, 17, 16, 25, 24, 22, 21, 21]\n",
    "data_points = DataPoints([x, y], reverse=True)"
   ]
  },
  {
   "cell_type": "markdown",
   "metadata": {},
   "source": [
    "Class `LabeledDataPoints` stores classified DataPoints as a Dictionary of DataPoints.\n",
    "\n",
    "Can be initialized as:\n",
    "\n",
    "1. list of Variables with classes attatched to it. Here `classes[0]` is the label for point `(x[0], y[0])`"
   ]
  },
  {
   "cell_type": "code",
   "execution_count": 3,
   "metadata": {},
   "outputs": [
    {
     "name": "stdout",
     "output_type": "stream",
     "text": [
      "10 10\n"
     ]
    }
   ],
   "source": [
    "x = [4, 5, 10, 4, 3, 11, 14 , 8, 10, 12]\n",
    "y = [21, 19, 24, 17, 16, 25, 24, 22, 21, 21]\n",
    "classes = [0, 0, 1, 0, 0, 1, 1, 0, 1, 1]\n",
    "\n",
    "data = LabeledDataPoints([x, y], labels=classes)"
   ]
  },
  {
   "cell_type": "markdown",
   "metadata": {},
   "source": [
    "2. a Dictionary of a list of vectors, where a vector is one point"
   ]
  },
  {
   "cell_type": "code",
   "execution_count": 4,
   "metadata": {},
   "outputs": [],
   "source": [
    "data_raw = {0: [\n",
    "    [4, 21],\n",
    "    [5, 19],\n",
    "    [4, 17],\n",
    "    [3, 16],\n",
    "    [8, 22]\n",
    "], 1: [\n",
    "    [10, 24],\n",
    "    [11, 25],\n",
    "    [14, 24],\n",
    "    [10, 21],\n",
    "    [12, 21]\n",
    "]}\n",
    "data = LabeledDataPoints(data_raw)"
   ]
  },
  {
   "cell_type": "markdown",
   "metadata": {},
   "source": [
    "3. Datapoints with classes attatched. Here `classes[0]` is the label for `data_points[0]`"
   ]
  },
  {
   "cell_type": "code",
   "execution_count": 5,
   "metadata": {},
   "outputs": [],
   "source": [
    "x = [4, 5, 10, 4, 3, 11, 14 , 8, 10, 12]\n",
    "y = [21, 19, 24, 17, 16, 25, 24, 22, 21, 21]\n",
    "classes = [0, 0, 1, 0, 0, 1, 1, 0, 1, 1]\n",
    "\n",
    "data_points = DataPoints([x, y], reverse=True)\n",
    "\n",
    "data = LabeledDataPoints(data_points, labels=classes)"
   ]
  },
  {
   "cell_type": "markdown",
   "metadata": {},
   "source": [
    "# Training a K-NN Model\n",
    "\n",
    "1. Initialize the knn model by giving an argument data of type `LabeledDataPoints`\n",
    "2. execute `.fit()` function with parameter k"
   ]
  },
  {
   "cell_type": "code",
   "execution_count": 6,
   "metadata": {},
   "outputs": [],
   "source": [
    "knn = KNN(data)\n",
    "knn.fit(k=3)"
   ]
  },
  {
   "cell_type": "markdown",
   "metadata": {},
   "source": [
    "3. initialize data points you want to classify"
   ]
  },
  {
   "cell_type": "code",
   "execution_count": 7,
   "metadata": {},
   "outputs": [],
   "source": [
    "new_point = [8, 21]\n",
    "new_points_data = DataPoints([new_point])"
   ]
  },
  {
   "cell_type": "markdown",
   "metadata": {},
   "source": [
    "4. make a prediction using `predict` function"
   ]
  },
  {
   "cell_type": "code",
   "execution_count": 8,
   "metadata": {},
   "outputs": [
    {
     "name": "stdout",
     "output_type": "stream",
     "text": [
      "[0]\n"
     ]
    }
   ],
   "source": [
    "prediction = knn.predict(new_points_data)\n",
    "print(prediction)"
   ]
  },
  {
   "cell_type": "markdown",
   "metadata": {},
   "source": [
    "Example plot of the classification:"
   ]
  },
  {
   "cell_type": "code",
   "execution_count": 9,
   "metadata": {},
   "outputs": [
    {
     "name": "stderr",
     "output_type": "stream",
     "text": [
      "C:\\Users\\A. Romanenko\\AppData\\Roaming\\Python\\Python37\\site-packages\\ipykernel_launcher.py:12: UserWarning: You passed a edgecolor/edgecolors ('black') for an unfilled marker ('x').  Matplotlib is ignoring the edgecolor in favor of the facecolor.  This behavior may change in the future.\n",
      "  if sys.path[0] == \"\":\n"
     ]
    },
    {
     "data": {
      "image/png": "[encoded data removed]",
      "text/plain": [
       "<Figure size 600x600 with 1 Axes>"
      ]
     },
     "metadata": {},
     "output_type": "display_data"
    }
   ],
   "source": [
    "x_0 = [x[i] for i in range(len(x)) if classes[i] == 0]\n",
    "y_0 = [y[i] for i in range(len(y)) if classes[i] == 0]\n",
    "\n",
    "x_1 = [x[i] for i in range(len(x)) if classes[i] == 1]\n",
    "y_1 = [y[i] for i in range(len(y)) if classes[i] == 1]\n",
    "\n",
    "plt.figure(figsize=(6, 6))\n",
    "plt.scatter(x_0, y_0, marker='o', label='Class 0', color='blue')\n",
    "plt.scatter(x_1, y_1, marker='x', label='Class 1', color='green')\n",
    "\n",
    "marker = \"o\" if prediction == 0 else \"x\"\n",
    "plt.scatter(new_point[0], new_point[1], marker=marker, color='red', edgecolor='black')\n",
    "\n",
    "plt.show()\n"
   ]
  },
  {
   "cell_type": "markdown",
   "metadata": {},
   "source": [
    "# Training a K-Means model"
   ]
  },
  {
   "cell_type": "markdown",
   "metadata": {},
   "source": [
    "1. initializing the data of type DataPoints"
   ]
  },
  {
   "cell_type": "code",
   "execution_count": 10,
   "metadata": {},
   "outputs": [],
   "source": [
    "x = [4, 5, 10, 4, 3, 11, 14 , 8, 10, 12]\n",
    "y = [21, 19, 24, 17, 16, 25, 24, 22, 21, 21]\n",
    "\n",
    "data = DataPoints([x, y], reverse=True)\n"
   ]
  },
  {
   "cell_type": "markdown",
   "metadata": {},
   "source": [
    "2. Training the model by providing the number of wished classes and Maximum of iteration"
   ]
  },
  {
   "cell_type": "code",
   "execution_count": 11,
   "metadata": {},
   "outputs": [
    {
     "name": "stdout",
     "output_type": "stream",
     "text": [
      "{0: [[10, 24], [11, 25], [14, 24], [10, 21], [12, 21]], 1: [[4, 21], [5, 19], [8, 22]], 2: [[4, 17], [3, 16]]}\n"
     ]
    }
   ],
   "source": [
    "knn = KMeans(data)\n",
    "points = knn.fit(k=3, max_iter=100)"
   ]
  },
  {
   "cell_type": "markdown",
   "metadata": {},
   "source": [
    "The Output of the `fit` function of an Object of type `labeledDataPoints`.\n",
    "\n",
    "Lets plot the results!"
   ]
  },
  {
   "cell_type": "code",
   "execution_count": 12,
   "metadata": {},
   "outputs": [
    {
     "data": {
      "image/png": "[encoded data removed]",
      "text/plain": [
       "<Figure size 600x600 with 1 Axes>"
      ]
     },
     "metadata": {},
     "output_type": "display_data"
    }
   ],
   "source": [
    "plt.figure(figsize=(6, 6))\n",
    "colors = ['blue', 'green', 'red', 'purple', 'orange', 'brown', 'pink', 'gray', 'olive', 'cyan']\n",
    "\n",
    "for key in points:\n",
    "    x_0 = [points[key][i][0] for i in range(len(points[key]))]\n",
    "    y_0 = [points[key][i][1] for i in range(len(points[key]))]\n",
    "\n",
    "    plt.scatter(x_0, y_0, color=colors[key])\n",
    "    \n",
    "plt.show()\n"
   ]
  },
  {
   "cell_type": "code",
   "execution_count": null,
   "metadata": {},
   "outputs": [],
   "source": []
  }
 ],
 "metadata": {
  "kernelspec": {
   "display_name": "Python 3",
   "language": "python",
   "name": "python3"
  },
  "language_info": {
   "codemirror_mode": {
    "name": "ipython",
    "version": 3
   },
   "file_extension": ".py",
   "mimetype": "text/x-python",
   "name": "python",
   "nbconvert_exporter": "python",
   "pygments_lexer": "ipython3",
   "version": "3.7.7"
  }
 },
 "nbformat": 4,
 "nbformat_minor": 2
}
