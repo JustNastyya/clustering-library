{
 "cells": [
  {
   "cell_type": "markdown",
   "metadata": {},
   "source": [
    "* Part 1* perform a k-NN classification"
   ]
  },
  {
   "cell_type": "code",
   "execution_count": null,
   "metadata": {},
   "outputs": [
    {
     "ename": "ImportError",
     "evalue": "cannot import name 'DataPoints' from 'clustering' (C:\\for_d\\projects\\russian_projects\\bot_event_planner_nekit\\clustering\\src\\clustering\\__init__.py)",
     "output_type": "error",
     "traceback": [
      "\u001b[1;31m---------------------------------------------------------------------------\u001b[0m",
      "\u001b[1;31mImportError\u001b[0m                               Traceback (most recent call last)",
      "\u001b[1;32m~\\AppData\\Local\\Temp\\ipykernel_6416\\587806230.py\u001b[0m in \u001b[0;36m<module>\u001b[1;34m\u001b[0m\n\u001b[0;32m      1\u001b[0m \u001b[1;31m# install:\u001b[0m\u001b[1;33m\u001b[0m\u001b[1;33m\u001b[0m\u001b[1;33m\u001b[0m\u001b[0m\n\u001b[0;32m      2\u001b[0m \u001b[1;33m\u001b[0m\u001b[0m\n\u001b[1;32m----> 3\u001b[1;33m \u001b[1;32mfrom\u001b[0m \u001b[0mclustering\u001b[0m \u001b[1;32mimport\u001b[0m \u001b[0mDataPoints\u001b[0m\u001b[1;33m\u001b[0m\u001b[1;33m\u001b[0m\u001b[0m\n\u001b[0m\u001b[0;32m      4\u001b[0m \u001b[1;32mfrom\u001b[0m \u001b[0mclustering\u001b[0m\u001b[1;33m.\u001b[0m\u001b[0mbasic_data_structures\u001b[0m\u001b[1;33m.\u001b[0m\u001b[0mlabeled_data_points\u001b[0m \u001b[1;32mimport\u001b[0m \u001b[0mLabeledDataPoints\u001b[0m\u001b[1;33m\u001b[0m\u001b[1;33m\u001b[0m\u001b[0m\n\u001b[0;32m      5\u001b[0m \u001b[1;32mfrom\u001b[0m \u001b[0mclustering\u001b[0m\u001b[1;33m.\u001b[0m\u001b[0mmethod_classes\u001b[0m\u001b[1;33m.\u001b[0m\u001b[0mk_nn\u001b[0m \u001b[1;32mimport\u001b[0m \u001b[0mKNN\u001b[0m\u001b[1;33m\u001b[0m\u001b[1;33m\u001b[0m\u001b[0m\n",
      "\u001b[1;31mImportError\u001b[0m: cannot import name 'DataPoints' from 'clustering' (C:\\for_d\\projects\\russian_projects\\bot_event_planner_nekit\\clustering\\src\\clustering\\__init__.py)"
     ]
    }
   ],
   "source": [
    "# install:\n",
    "\n",
    "from clustering.basic_data_structures.data_points import DataPoints\n",
    "from clustering.basic_data_structures.labeled_data_points import LabeledDataPoints\n",
    "from clustering.method_classes.k_nn import KNN\n",
    "import matplotlib.pyplot as plt"
   ]
  },
  {
   "cell_type": "code",
   "execution_count": null,
   "metadata": {},
   "outputs": [],
   "source": [
    "x = [4, 5, 10, 4, 3, 11, 14 , 8, 10, 12]\n",
    "y = [21, 19, 24, 17, 16, 25, 24, 22, 21, 21]\n",
    "classes = [0, 0, 1, 0, 0, 1, 1, 0, 1, 1]\n",
    "\n",
    "data = LabeledDataPoints([x, y], labels=classes)"
   ]
  },
  {
   "cell_type": "code",
   "execution_count": null,
   "metadata": {},
   "outputs": [],
   "source": [
    "data_raw = {0: [\n",
    "    [4, 21],\n",
    "    [5, 19],\n",
    "    [4, 17],\n",
    "    [3, 16],\n",
    "    [8, 22]\n",
    "], 1: [\n",
    "    [10, 24],\n",
    "    [11, 25],\n",
    "    [14, 24],\n",
    "    [10, 21],\n",
    "    [12, 21]\n",
    "]}\n",
    "data = LabeledDataPoints(data_raw)"
   ]
  },
  {
   "cell_type": "code",
   "execution_count": null,
   "metadata": {},
   "outputs": [],
   "source": [
    "data_points_raw = [\n",
    "    [4, 21],\n",
    "    [5, 19],\n",
    "    [10, 24],\n",
    "    [4, 17],\n",
    "    [3, 16],\n",
    "    [11, 25],\n",
    "    [14, 24],\n",
    "    [8, 22],\n",
    "    [10, 21],\n",
    "    [12, 21]\n",
    "]\n",
    "data_points = DataPoints(data_points_raw)\n",
    "\n",
    "classes = [0, 0, 1, 0, 0, 1, 1, 0, 1, 1]\n",
    "data = LabeledDataPoints(data_points_raw, labels=classes)"
   ]
  },
  {
   "cell_type": "code",
   "execution_count": null,
   "metadata": {},
   "outputs": [],
   "source": [
    "knn = KNN(data)\n",
    "knn.fit(k=3)"
   ]
  },
  {
   "cell_type": "code",
   "execution_count": null,
   "metadata": {},
   "outputs": [],
   "source": [
    "new_point = [8, 21]\n",
    "new_points_data = DataPoints([new_point])"
   ]
  },
  {
   "cell_type": "code",
   "execution_count": null,
   "metadata": {},
   "outputs": [],
   "source": [
    "prediction = knn.predict(new_points_data)\n",
    "print(prediction)"
   ]
  },
  {
   "cell_type": "code",
   "execution_count": null,
   "metadata": {},
   "outputs": [],
   "source": [
    "x_0 = [x[i] for i in range(len(x)) if classes[i] == 0]\n",
    "y_0 = [y[i] for i in range(len(y)) if classes[i] == 0]\n",
    "\n",
    "x_1 = [x[i] for i in range(len(x)) if classes[i] == 1]\n",
    "y_1 = [y[i] for i in range(len(y)) if classes[i] == 1]\n",
    "\n",
    "plt.figure(figsize=(6, 6))\n",
    "plt.scatter(x_0, y_0, marker='o', label='Class 0', color='blue')\n",
    "plt.scatter(x_1, y_1, marker='x', label='Class 1', color='green')\n",
    "\n",
    "marker = \"o\" if prediction == 0 else \"x\"\n",
    "plt.scatter(new_point[0], new_point[1], marker=marker, color='red', edgecolor='black')\n",
    "\n",
    "plt.show()\n"
   ]
  }
 ],
 "metadata": {
  "kernelspec": {
   "display_name": "Python 3",
   "language": "python",
   "name": "python3"
  },
  "language_info": {
   "codemirror_mode": {
    "name": "ipython",
    "version": 3
   },
   "file_extension": ".py",
   "mimetype": "text/x-python",
   "name": "python",
   "nbconvert_exporter": "python",
   "pygments_lexer": "ipython3",
   "version": "3.7.7"
  }
 },
 "nbformat": 4,
 "nbformat_minor": 2
}
